{
 "cells": [
  {
   "cell_type": "markdown",
   "metadata": {},
   "source": [
    "# Before your start:\n",
    "\n",
    "    Read the README.md file\n",
    "    Comment as much as you can and use the resources (README.md file)\n",
    "    Happy learning!\n",
    "\n",
    "*Notes:* \n",
    "\n",
    "- Solve the questions with python.\n",
    "\n",
    "- Round the final answer to three decimal places."
   ]
  },
  {
   "cell_type": "markdown",
   "metadata": {},
   "source": [
    "## Bernoulli's Distribution\n",
    "\n",
    "In a basket containing 100 fruits, there are 60 apples and 40 oranges. \n",
    "\n",
    "A fruit is picked randomly from the basket. \n",
    "\n",
    "1. **What is the probability that the fruit is apple?**\n",
    "1. **What is the probability that it is an orange?**"
   ]
  },
  {
   "cell_type": "code",
   "execution_count": 1,
   "metadata": {},
   "outputs": [],
   "source": [
    "import random"
   ]
  },
  {
   "cell_type": "code",
   "execution_count": 2,
   "metadata": {},
   "outputs": [],
   "source": [
    "espacio_muestral= ['apples', 'oranges']"
   ]
  },
  {
   "cell_type": "code",
   "execution_count": 8,
   "metadata": {},
   "outputs": [
    {
     "data": {
      "text/plain": [
       "['oranges',\n",
       " 'apples',\n",
       " 'apples',\n",
       " 'apples',\n",
       " 'apples',\n",
       " 'oranges',\n",
       " 'apples',\n",
       " 'apples',\n",
       " 'apples',\n",
       " 'oranges',\n",
       " 'apples',\n",
       " 'oranges',\n",
       " 'apples',\n",
       " 'apples',\n",
       " 'oranges',\n",
       " 'apples',\n",
       " 'apples',\n",
       " 'apples',\n",
       " 'oranges',\n",
       " 'apples',\n",
       " 'oranges',\n",
       " 'oranges',\n",
       " 'apples',\n",
       " 'oranges',\n",
       " 'apples',\n",
       " 'apples',\n",
       " 'oranges',\n",
       " 'oranges',\n",
       " 'oranges',\n",
       " 'apples',\n",
       " 'oranges',\n",
       " 'apples',\n",
       " 'oranges',\n",
       " 'oranges',\n",
       " 'apples',\n",
       " 'apples',\n",
       " 'oranges',\n",
       " 'apples',\n",
       " 'apples',\n",
       " 'oranges',\n",
       " 'apples',\n",
       " 'oranges',\n",
       " 'oranges',\n",
       " 'oranges',\n",
       " 'apples',\n",
       " 'apples',\n",
       " 'apples',\n",
       " 'apples',\n",
       " 'oranges',\n",
       " 'apples',\n",
       " 'apples',\n",
       " 'oranges',\n",
       " 'apples',\n",
       " 'apples',\n",
       " 'oranges',\n",
       " 'apples',\n",
       " 'apples',\n",
       " 'apples',\n",
       " 'oranges',\n",
       " 'apples',\n",
       " 'apples',\n",
       " 'apples',\n",
       " 'oranges',\n",
       " 'apples',\n",
       " 'apples',\n",
       " 'apples',\n",
       " 'apples',\n",
       " 'apples',\n",
       " 'oranges',\n",
       " 'apples',\n",
       " 'oranges',\n",
       " 'oranges',\n",
       " 'oranges',\n",
       " 'apples',\n",
       " 'apples',\n",
       " 'apples',\n",
       " 'apples',\n",
       " 'apples',\n",
       " 'oranges',\n",
       " 'apples',\n",
       " 'apples',\n",
       " 'apples',\n",
       " 'apples',\n",
       " 'apples',\n",
       " 'apples',\n",
       " 'apples',\n",
       " 'apples',\n",
       " 'oranges',\n",
       " 'apples',\n",
       " 'apples',\n",
       " 'apples',\n",
       " 'apples',\n",
       " 'oranges',\n",
       " 'apples',\n",
       " 'oranges',\n",
       " 'apples',\n",
       " 'apples',\n",
       " 'apples',\n",
       " 'apples',\n",
       " 'apples']"
      ]
     },
     "execution_count": 8,
     "metadata": {},
     "output_type": "execute_result"
    }
   ],
   "source": [
    "frutas= random.choices(espacio_muestral, weights=[0.6,0.4], k=100)\n",
    "frutas"
   ]
  },
  {
   "cell_type": "code",
   "execution_count": 9,
   "metadata": {},
   "outputs": [
    {
     "data": {
      "text/plain": [
       "0.67"
      ]
     },
     "execution_count": 9,
     "metadata": {},
     "output_type": "execute_result"
    }
   ],
   "source": [
    "freq_apples= frutas.count('apples')/len(frutas)\n",
    "freq_apples"
   ]
  },
  {
   "cell_type": "code",
   "execution_count": 10,
   "metadata": {},
   "outputs": [
    {
     "data": {
      "text/plain": [
       "0.33"
      ]
     },
     "execution_count": 10,
     "metadata": {},
     "output_type": "execute_result"
    }
   ],
   "source": [
    "freq_oranges= frutas.count('oranges')/len(frutas)\n",
    "freq_oranges"
   ]
  },
  {
   "cell_type": "markdown",
   "metadata": {},
   "source": [
    "Now we take a random sample of 20 fruits from the basket. After each fruit is taken, a new fruit of the same type is replaced in the basket. Therefore, every time we are taking 1 fruit from 100 fruits. \n",
    "\n",
    "1. **What is the probability that the first 5 fruits are all apples?**\n",
    "\n",
    "1. **What is the probability that the first 5 fruits are all apples and the next 15 fruits are all oranges?**\n",
    "\n",
    "You can include the `p` and `q` probabilities you previous calculated in your solution."
   ]
  },
  {
   "cell_type": "code",
   "execution_count": 18,
   "metadata": {},
   "outputs": [
    {
     "data": {
      "text/plain": [
       "0.003913539300000001"
      ]
     },
     "execution_count": 18,
     "metadata": {},
     "output_type": "execute_result"
    }
   ],
   "source": [
    "apples_pq= 0.33 ** 5\n",
    "apples_pq"
   ]
  },
  {
   "cell_type": "code",
   "execution_count": 19,
   "metadata": {},
   "outputs": [
    {
     "data": {
      "text/plain": [
       "9.631451452346887e-06"
      ]
     },
     "execution_count": 19,
     "metadata": {},
     "output_type": "execute_result"
    }
   ],
   "source": [
    "oranges_pq=(0.33**5) * (0.67**15)\n",
    "oranges_pq"
   ]
  },
  {
   "cell_type": "markdown",
   "metadata": {},
   "source": [
    "## Binomial Distribution\n",
    "\n",
    "Similar to the above problem, this time again we randomly sample 20 fruits.\n",
    "\n",
    "**What is the probability that this time the sample contains 5 apples and 15 oranges?**\n",
    "\n",
    "Please note that this time the order of the fruits being picked does not matter."
   ]
  },
  {
   "cell_type": "code",
   "execution_count": 20,
   "metadata": {},
   "outputs": [],
   "source": [
    "import pylab as plt\n",
    "from scipy.stats import binom"
   ]
  },
  {
   "cell_type": "code",
   "execution_count": 21,
   "metadata": {},
   "outputs": [
    {
     "data": {
      "text/plain": [
       "0.1294102919789904"
      ]
     },
     "execution_count": 21,
     "metadata": {},
     "output_type": "execute_result"
    }
   ],
   "source": [
    "binom.pmf(5, 20, 1/6)"
   ]
  },
  {
   "cell_type": "markdown",
   "metadata": {},
   "source": [
    "In the lesson we also discussed CDF (cumulative distribution function). In the context of the above problem, **what is the probability that less than 5 fruits picked are apples?**\n",
    "\n",
    "Write the formula and calculate the probability below."
   ]
  },
  {
   "cell_type": "code",
   "execution_count": 27,
   "metadata": {},
   "outputs": [],
   "source": [
    "x= [i for i in range (5)]\n",
    "y = [binom.cdf(x, 20, freq_apples) for x in x]"
   ]
  },
  {
   "cell_type": "markdown",
   "metadata": {},
   "source": [
    "**Plot the PDF (probability distributiom function) for the above binomial distribution.**\n",
    "\n",
    "*Hint: The range of x in a binomial distribution is from `0` to `n`.*"
   ]
  },
  {
   "cell_type": "code",
   "execution_count": 30,
   "metadata": {
    "scrolled": true
   },
   "outputs": [
    {
     "data": {
      "image/png": "[encoded data removed]",
      "text/plain": [
       "<Figure size 640x480 with 1 Axes>"
      ]
     },
     "metadata": {},
     "output_type": "display_data"
    }
   ],
   "source": [
    "plt.title('binomial distribution')\n",
    "plt.xlabel('Num exitos')\n",
    "plt.ylabel('Tamaño de la muestra')\n",
    "plt.plot(x,y);"
   ]
  },
  {
   "cell_type": "markdown",
   "metadata": {},
   "source": [
    "## Poisson Distribution\n",
    "\n",
    "In this challenge you are required to use the Math library in python to solve the problems.\n",
    "\n",
    "In the UEFA champions league tournament, the average number of goals scored in a match is 2.3. \n",
    "\n",
    "**What is the probability that the number of goals scored in a match is 5?**\n",
    "\n",
    "*Hint: Use the exp() in the math library*\n",
    "\n",
    "And to calculate the factorial, you can use the following code:\n",
    "\n",
    "```python\n",
    "import math\n",
    "math.factorial(n) # n is the number you want to find the factorial of\n",
    "```"
   ]
  },
  {
   "cell_type": "code",
   "execution_count": 33,
   "metadata": {},
   "outputs": [],
   "source": [
    "from scipy.stats import poisson\n",
    "import math"
   ]
  },
  {
   "cell_type": "code",
   "execution_count": 35,
   "metadata": {},
   "outputs": [
    {
     "data": {
      "text/plain": [
       "0.053775025581946814"
      ]
     },
     "execution_count": 35,
     "metadata": {},
     "output_type": "execute_result"
    }
   ],
   "source": [
    "poisson.pmf(5,2.3)"
   ]
  },
  {
   "cell_type": "markdown",
   "metadata": {},
   "source": [
    "**Draw a poisson probability distribution plot for the number of goals to be between 0 to 10.**"
   ]
  },
  {
   "cell_type": "code",
   "execution_count": 38,
   "metadata": {},
   "outputs": [
    {
     "data": {
      "image/png": "[encoded data removed]",
      "text/plain": [
       "<Figure size 640x480 with 1 Axes>"
      ]
     },
     "metadata": {},
     "output_type": "display_data"
    }
   ],
   "source": [
    "x= [i for i in range(6)]\n",
    "y=[poisson.pmf(x,2.3) for x in x]\n",
    "plt.title('Distribución de num de goles')\n",
    "plt.xlabel('Num exitos')\n",
    "plt.ylabel('Tamaño de la muestra')\n",
    "plt.plot(x,y);"
   ]
  }
 ],
 "metadata": {
  "kernelspec": {
   "display_name": "Python 3 (ipykernel)",
   "language": "python",
   "name": "python3"
  },
  "language_info": {
   "codemirror_mode": {
    "name": "ipython",
    "version": 3
   },
   "file_extension": ".py",
   "mimetype": "text/x-python",
   "name": "python",
   "nbconvert_exporter": "python",
   "pygments_lexer": "ipython3",
   "version": "3.11.4"
  }
 },
 "nbformat": 4,
 "nbformat_minor": 2
}
